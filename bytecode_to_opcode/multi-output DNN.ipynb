{
 "cells": [
  {
   "cell_type": "markdown",
   "id": "d8b84e52-bf9d-4aee-994f-2a06d3a68808",
   "metadata": {},
   "source": [
    "# 读取完整训练数据集\n",
    "# train_label = ['access-control', 'arithmetic', 'reentrancy', 'safe']\n"
   ]
  },
  {
   "cell_type": "code",
   "execution_count": null,
   "id": "4a608d87-33bb-4475-9492-24e1bd93a910",
   "metadata": {},
   "outputs": [],
   "source": [
    "import pandas as pd\n",
    "\n",
    "cur_df = pd.read_csv(\"train_dataset.csv\",delimiter='\\t')\n",
    "cur_df.drop(['Unnamed: 0'], axis=1, inplace=True)\n",
    "cur_df['swc_id'] = cur_df['swc_id'].apply(eval)\n",
    "\n",
    "cur_df  # 67190 rows * 3 columns ['bytecode','swc_id','opcodes']"
   ]
  },
  {
   "cell_type": "markdown",
   "id": "ff1370b0-a502-44fe-9958-ac9367a20dcf",
   "metadata": {},
   "source": [
    "# 新增一列标签索引值\n"
   ]
  },
  {
   "cell_type": "code",
   "execution_count": null,
   "id": "f257e4e0-08e2-4654-afdd-34743e7fa9d0",
   "metadata": {},
   "outputs": [],
   "source": [
    "train_df = cur_df  # .sample(n=10)\n",
    "train_df['label_idx'] = '[]'\n",
    "\n",
    "train_df"
   ]
  },
  {
   "cell_type": "markdown",
   "id": "943a139d-64b5-408d-a2b7-55e24b6532d2",
   "metadata": {},
   "source": [
    "# 对标签进行编码，插入'label_idx'列\n"
   ]
  },
  {
   "cell_type": "code",
   "execution_count": null,
   "id": "fbdfb339-0492-47a6-9994-05a2d96d5d1a",
   "metadata": {},
   "outputs": [],
   "source": [
    "from sklearn import preprocessing\n",
    "\n",
    "enc=preprocessing.LabelEncoder()   \n",
    "enc=enc.fit(['access-control', 'arithmetic', 'reentrancy', 'safe'])  # 训练LabelEncoder,[0,1,2,3]\n",
    "\n",
    "for i,row in train_df.iterrows():\n",
    "    swc_id = row['swc_id']\n",
    "    label_idx = enc.transform(swc_id).tolist()\n",
    "    train_df.loc[i,'label_idx'] = str(label_idx)\n",
    "\n",
    "train_df['label_idx'] = train_df['label_idx'].apply(eval)\n",
    "\n",
    "train_df"
   ]
  },
  {
   "cell_type": "markdown",
   "id": "6bf73b22-f7f9-48a0-b865-21873945fefb",
   "metadata": {},
   "source": [
    "# 预处理数据和标签\n"
   ]
  },
  {
   "cell_type": "code",
   "execution_count": null,
   "id": "e512f9f1-2ad3-4e64-8b0d-90bc6c153837",
   "metadata": {},
   "outputs": [],
   "source": [
    "import numpy as np\n",
    "from sklearn.preprocessing import MultiLabelBinarizer\n",
    "from keras.utils import to_categorical\n",
    "from keras.preprocessing.text import Tokenizer\n",
    "from tensorflow.keras.preprocessing.sequence import pad_sequences\n",
    "\n",
    "\n",
    "opcodes = train_df['opcodes'].tolist()\n",
    "labels= train_df['label_idx'].tolist()\n",
    "\n",
    "tokenizer = Tokenizer(num_words=None)  # num_words:None或整数,处理的最大单词数量。少于此数的单词丢掉\n",
    "tokenizer.fit_on_texts(opcodes)\n",
    "sequences = tokenizer.texts_to_sequences(opcodes)  # 得到单词的索引，受num_words影响\n",
    "\n",
    "MAX_SEQUENCE_LENGTH = int(np.mean([len(op.split()) for op in opcodes]))\n",
    "print(MAX_SEQUENCE_LENGTH)\n",
    "\n",
    "opcodes_idx = pad_sequences(sequences, maxlen=MAX_SEQUENCE_LENGTH)  #将长度不足xx的用 0 填充（在前端填充）\n",
    "\n",
    "mlb = MultiLabelBinarizer()\n",
    "labels_encoded = mlb.fit_transform(labels)\n",
    "\n",
    "print(opcodes_idx.shape)\n",
    "print(labels_encoded.shape)\n"
   ]
  },
  {
   "cell_type": "markdown",
   "id": "81a5831c-7f1d-4fa1-9c97-ebb524aaf5dd",
   "metadata": {},
   "source": [
    "# 训练base和分支模型\n"
   ]
  },
  {
   "cell_type": "code",
   "execution_count": null,
   "id": "77efcf2c-d266-4578-a4ee-a251642b0a24",
   "metadata": {},
   "outputs": [],
   "source": [
    "import time\n",
    "import numpy as np\n",
    "import tensorflow as tf\n",
    "from tensorflow.keras.layers import Input, Embedding, GRU, BatchNormalization, Dropout, Dense\n",
    "from tensorflow.keras.models import Model\n",
    "\n",
    "stime = time.time()\n",
    "\n",
    "# 定义base网络结构\n",
    "def base_model(input_dim, embedding_dim, gru_units):\n",
    "    inputs = Input(shape=(input_dim,))\n",
    "    embedding = Embedding(input_dim, embedding_dim)(inputs)\n",
    "    gru = GRU(gru_units)(embedding)\n",
    "    bn = BatchNormalization()(gru)\n",
    "    dropout = Dropout(0.5)(bn)\n",
    "    return inputs, dropout\n",
    "\n",
    "# 定义分支网络结构\n",
    "def branch_model(input_layer, units, num_classes):\n",
    "    dense = Dense(units, activation='relu')(input_layer)\n",
    "    bn = BatchNormalization()(dense)\n",
    "    dropout = Dropout(0.5)(bn)\n",
    "    output = Dense(num_classes, activation='sigmoid')(dropout)\n",
    "    return output\n",
    "\n",
    "# 构建模型\n",
    "def build_model(input_dim, embedding_dim, gru_units, units_list, num_classes_list):\n",
    "    inputs, base_output = base_model(input_dim, embedding_dim, gru_units)\n",
    "    outputs = []\n",
    "    for units, num_classes in zip(units_list, num_classes_list):\n",
    "        branch_output = branch_model(base_output, units, num_classes)\n",
    "        outputs.append(branch_output)\n",
    "    model = Model(inputs=inputs, outputs=outputs)\n",
    "    return model\n",
    "\n",
    "# 构建数据集\n",
    "x_train = opcodes_idx  \n",
    "y_train_list = [np.array(line) for line in labels_encoded.T.reshape(4,67190,1).tolist()]  # 假设有四个标签，每个标签是二分类\n",
    "\n",
    "# 定义模型参数\n",
    "input_dim = 6208\n",
    "embedding_dim = 1000\n",
    "gru_units = 128\n",
    "units_list = [128, 128, 128, 128]  # 每个分支的隐藏单元数量\n",
    "num_classes_list = [1, 1, 1, 1]  # 每个分支的输出类别数量，这里假设是二分类任务\n",
    "\n",
    "# 构建模型\n",
    "model = build_model(input_dim, embedding_dim, gru_units, units_list, num_classes_list)\n",
    "\n",
    "# 编译模型\n",
    "model.compile(optimizer='adam', loss='binary_crossentropy', metrics=['accuracy'])\n",
    "\n",
    "# 训练模型\n",
    "model.fit(x_train, y_train_list, batch_size=128, epochs=20)\n",
    "\n",
    "# 保存模型的权重\n",
    "model.save_weights('model_weights.h5')\n",
    "\n",
    "# 保存模型的结构\n",
    "model_json = model.to_json()\n",
    "with open('model_structure.json', 'w') as json_file:\n",
    "    json_file.write(model_json)\n",
    "\n",
    "print(time.time()-stime)"
   ]
  }
 ],
 "metadata": {
  "kernelspec": {
   "display_name": "Python 3 (ipykernel)",
   "language": "python",
   "name": "python3"
  },
  "language_info": {
   "codemirror_mode": {
    "name": "ipython",
    "version": 3
   },
   "file_extension": ".py",
   "mimetype": "text/x-python",
   "name": "python",
   "nbconvert_exporter": "python",
   "pygments_lexer": "ipython3",
   "version": "3.8.10"
  }
 },
 "nbformat": 4,
 "nbformat_minor": 5
}
